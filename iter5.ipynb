{
 "cells": [
  {
   "cell_type": "code",
   "execution_count": 1,
   "metadata": {
    "collapsed": false
   },
   "outputs": [
    {
     "name": "stderr",
     "output_type": "stream",
     "text": [
      "[INFO] Start server at: ipc:///tmp/graphlab_server-11761 - Server binary: /Library/Frameworks/Python.framework/Versions/2.7/lib/python2.7/site-packages/graphlab/unity_server - Server log: /tmp/graphlab_server_1425935061.log\n",
      "[INFO] GraphLab Server Version: 1.3.0\n"
     ]
    }
   ],
   "source": [
    "import pandas as pd\n",
    "import graphlab as gl\n",
    "from random import random\n",
    "gl.canvas.set_target('ipynb')\n",
    "%matplotlib inline"
   ]
  },
  {
   "cell_type": "code",
   "execution_count": 2,
   "metadata": {
    "collapsed": true
   },
   "outputs": [],
   "source": [
    "# clean pairs data\n",
    "def clean_pair_date(sf):\n",
    "    sf.rename({'X1': 'lender_id', 'X2': 'loan_id'})\n",
    "    sf['loan_id'] = sf['loan_id'].astype(str)\n",
    "    sf['lender_id'] = sf['lender_id'].astype(str)\n",
    "    return sf\n",
    "\n",
    "\n",
    "# clean loan data\n",
    "def clean_loan_data(df):\n",
    "    # drop columns\n",
    "    df = df.drop(['paid_date', 'planned_expiration_date', 'languages'], axis=1)\n",
    "\n",
    "    # drop duplicates\n",
    "    df = df.drop_duplicates('id')\n",
    "\n",
    "    # drop duplicate header\n",
    "    df = df[df['activity'] != 'activity']\n",
    "\n",
    "    # drop nas\n",
    "    df = df.dropna(subset=['earliest_scheduled_payment', 'last_scheduled_payment',\n",
    "                           'repayment_interval', 'posted_date',\n",
    "                           'status', 'repayment_term', 'use'], how='any')\n",
    "\n",
    "    # fill paid_amount's na with zero\n",
    "    df['paid_amount'] = df['paid_amount'].fillna(0)\n",
    "\n",
    "    # fill genders\n",
    "    df['gender'] = df['gender'].map(lambda x: 'M' if random() <= 0.39 else 'F')\n",
    "    df['gender'] = df['gender'].map(lambda x: 1 if x == 'F' else 'M')\n",
    "\n",
    "    # fill null descriptions with empty string\n",
    "    df['descriptions'] = df['descriptions'].fillna(0)\n",
    "\n",
    "    # binaralize bonus credit\n",
    "    df['bonus_credit_eligibility'] = df['bonus_credit_eligibility'].map(lambda x: 1 if x == 'True' else 0)\n",
    "\n",
    "    # convert some columns to datetime\n",
    "    df['earliest_scheduled_payment'] = df['earliest_scheduled_payment'].map(\n",
    "        lambda x: pd.to_datetime(x, format='%Y-%m-%dT%H:%M:%SZ'))\n",
    "    df['last_scheduled_payment'] = df['last_scheduled_payment'].map(\n",
    "        lambda x: pd.to_datetime(x, format='%Y-%m-%dT%H:%M:%SZ'))\n",
    "    df['posted_date'] = df['posted_date'].map(\n",
    "        lambda x: pd.to_datetime(x, format='%Y-%m-%dT%H:%M:%SZ'))\n",
    "\n",
    "    # convert some columns to int\n",
    "    df['lender_count'] = df['lender_count'].astype('int64')\n",
    "    df['loan_amount'] = df['loan_amount'].astype('int64')\n",
    "    df['paid_amount'] = df['paid_amount'].astype('float64').astype('int64')\n",
    "    df['repayment_term'] = df['repayment_term'].astype('float64')\n",
    "\n",
    "    return df\n",
    "\n",
    "\n",
    "def drop_unexsiting_loan_ids(sf, df):\n",
    "    loan_ids_in_pairs = sorted(list(sf['loan_id'].unique()))\n",
    "    loan_ids_in_loans = sorted(list(df['id'].values))\n",
    "    loan_ids_intersection = set(loan_ids_in_loans) & set(loan_ids_in_pairs)\n",
    "    # drop useless loan_ids in sf\n",
    "    sf['loan_id'] = sf['loan_id'].apply(lambda x: x if x in loan_ids_intersection else None)\n",
    "    sf = sf.dropna('loan_id')\n",
    "    # drop useless loan_ids in df\n",
    "    df['id'] = df['id'].map(lambda x: x if x in loan_ids_intersection else None)\n",
    "    df = df.dropna()\n",
    "    return sf, df"
   ]
  },
  {
   "cell_type": "code",
   "execution_count": 3,
   "metadata": {
    "collapsed": true
   },
   "outputs": [],
   "source": [
    "df = pd.read_csv('data/loans.csv', delimiter=',')\n",
    "df = clean_loan_data(df)"
   ]
  },
  {
   "cell_type": "code",
   "execution_count": 4,
   "metadata": {
    "collapsed": false
   },
   "outputs": [
    {
     "name": "stdout",
     "output_type": "stream",
     "text": [
      "<class 'pandas.core.frame.DataFrame'>\n",
      "Int64Index: 824505 entries, 0 to 842841\n",
      "Data columns (total 21 columns):\n",
      "activity                      824505 non-null object\n",
      "bonus_credit_eligibility      824505 non-null int64\n",
      "id                            824505 non-null object\n",
      "lender_count                  824505 non-null int64\n",
      "loan_amount                   824505 non-null int64\n",
      "paid_amount                   824505 non-null int64\n",
      "partner_id                    824505 non-null object\n",
      "posted_date                   824505 non-null datetime64[ns]\n",
      "sector                        824505 non-null object\n",
      "status                        824505 non-null object\n",
      "use                           824505 non-null object\n",
      "gender                        824505 non-null object\n",
      "family                        824505 non-null object\n",
      "descriptions                  824505 non-null object\n",
      "image_id                      824505 non-null object\n",
      "image_template_id             824505 non-null object\n",
      "country                       824505 non-null object\n",
      "repayment_term                824505 non-null float64\n",
      "repayment_interval            824505 non-null object\n",
      "earliest_scheduled_payment    824505 non-null datetime64[ns]\n",
      "last_scheduled_payment        824505 non-null datetime64[ns]\n",
      "dtypes: datetime64[ns](3), float64(1), int64(4), object(13)\n",
      "memory usage: 138.4+ MB\n"
     ]
    }
   ],
   "source": [
    "df.info()"
   ]
  },
  {
   "cell_type": "markdown",
   "metadata": {},
   "source": [
    "## Get features!!!!!!!\n",
    "- bonus credit eligibility\n",
    "- loan_amount\n",
    "- posted_date =>\n",
    " - 4 seasons: dummy variable in {0, 1, 2, 3}\n",
    "- Tfidf of use\n",
    "- gender\n",
    "- family\n",
    "- country\n",
    "- repayment term\n",
    "- repayment interval => dummy variable in {0, 1, 2}"
   ]
  },
  {
   "cell_type": "code",
   "execution_count": 9,
   "metadata": {
    "collapsed": true
   },
   "outputs": [],
   "source": [
    "raw_features = df[['bonus_credit_eligibility', 'loan_amount', 'posted_date',\n",
    "                   'use', 'gender', 'family', 'country', 'repayment_term',\n",
    "                   'repayment_interval', 'id']]"
   ]
  },
  {
   "cell_type": "code",
   "execution_count": 6,
   "metadata": {
    "collapsed": false
   },
   "outputs": [
    {
     "data": {
      "text/plain": [
       "count    824505.000000\n",
       "mean         12.830616\n",
       "std           7.463898\n",
       "min           2.000000\n",
       "25%           8.000000\n",
       "50%          12.000000\n",
       "75%          14.000000\n",
       "max         195.000000\n",
       "Name: repayment_term, dtype: float64"
      ]
     },
     "execution_count": 6,
     "metadata": {},
     "output_type": "execute_result"
    }
   ],
   "source": [
    "df['repayment_term'].describe()"
   ]
  },
  {
   "cell_type": "code",
   "execution_count": 8,
   "metadata": {
    "collapsed": false
   },
   "outputs": [
    {
     "data": {
      "text/plain": [
       "Monthly           568528\n",
       "Irregularly       187488\n",
       "At end of term     68489\n",
       "dtype: int64"
      ]
     },
     "execution_count": 8,
     "metadata": {},
     "output_type": "execute_result"
    }
   ],
   "source": [
    "df['repayment_interval'].value_counts()"
   ]
  },
  {
   "cell_type": "code",
   "execution_count": null,
   "metadata": {
    "collapsed": true
   },
   "outputs": [],
   "source": []
  }
 ],
 "metadata": {
  "kernelspec": {
   "display_name": "Python 2",
   "language": "python",
   "name": "python2"
  },
  "language_info": {
   "codemirror_mode": {
    "name": "ipython",
    "version": 2
   },
   "file_extension": ".py",
   "mimetype": "text/x-python",
   "name": "python",
   "nbconvert_exporter": "python",
   "pygments_lexer": "ipython2",
   "version": "2.7.6"
  }
 },
 "nbformat": 4,
 "nbformat_minor": 0
}
